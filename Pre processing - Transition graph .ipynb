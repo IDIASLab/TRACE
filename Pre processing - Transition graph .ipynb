{
 "cells": [
  {
   "cell_type": "code",
   "execution_count": 8,
   "id": "7dd6a741",
   "metadata": {},
   "outputs": [],
   "source": [
    "import pandas as pd\n",
    "import matplotlib.pyplot as plt\n",
    "import seaborn as sns\n",
    "import numpy as np\n",
    "import os\n",
    "import random as rn\n",
    "from sklearn.metrics.pairwise import cosine_similarity\n",
    "import networkx as nx\n",
    "from datetime import datetime as dt\n",
    "from datetime import timedelta\n",
    "\n",
    "\n",
    "%run Functions.ipynb"
   ]
  },
  {
   "cell_type": "code",
   "execution_count": 9,
   "id": "a51778e1",
   "metadata": {},
   "outputs": [],
   "source": [
    "trainData = pd.read_csv('Data_Train Data.csv').drop(['Unnamed: 0'],axis=1)\n",
    "trainData[\"EntryDate\"] = pd.to_datetime(trainData['EntryDate'])\n",
    "trainData[\"ExitDate\"] = pd.to_datetime(trainData['ExitDate'])\n",
    "trainData = trainData.sort_values([\"EntryDate\",'ExitDate']).reset_index(drop=True)\n",
    "\n"
   ]
  },
  {
   "cell_type": "code",
   "execution_count": 10,
   "id": "e9f4a760",
   "metadata": {},
   "outputs": [
    {
     "name": "stdout",
     "output_type": "stream",
     "text": [
      "Preparing aggregate graph \n"
     ]
    }
   ],
   "source": [
    "# Aggregate transition graph\n",
    "transition_matrix = transition_graph_aggregate(trainData)\n",
    "transition_matrix.to_csv('TransitionGraph_Empirical method for train set.csv')\n",
    "\n"
   ]
  },
  {
   "cell_type": "code",
   "execution_count": 11,
   "id": "1e81ec5c",
   "metadata": {},
   "outputs": [
    {
     "name": "stdout",
     "output_type": "stream",
     "text": [
      "Preparing snapshot graph\n",
      "4\n",
      "1\n",
      "2\n",
      "3\n"
     ]
    }
   ],
   "source": [
    "# Snapshot transition graph\n",
    "normalized_tm_combined = transition_graph_snapshot(trainData)\n",
    "normalized_tm_combined.to_csv('TransitionGraph_Snapshot method for train set.csv')\n",
    "\n"
   ]
  },
  {
   "cell_type": "code",
   "execution_count": null,
   "id": "b0eb6c0f",
   "metadata": {},
   "outputs": [],
   "source": []
  }
 ],
 "metadata": {
  "kernelspec": {
   "display_name": "Python 3",
   "language": "python",
   "name": "python3"
  },
  "language_info": {
   "codemirror_mode": {
    "name": "ipython",
    "version": 3
   },
   "file_extension": ".py",
   "mimetype": "text/x-python",
   "name": "python",
   "nbconvert_exporter": "python",
   "pygments_lexer": "ipython3",
   "version": "3.8.8"
  }
 },
 "nbformat": 4,
 "nbformat_minor": 5
}
