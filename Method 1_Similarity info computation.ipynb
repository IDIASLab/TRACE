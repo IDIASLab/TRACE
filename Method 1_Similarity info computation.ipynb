{
 "cells": [
  {
   "cell_type": "code",
   "execution_count": 8,
   "id": "7dd6a741",
   "metadata": {},
   "outputs": [],
   "source": [
    "import pandas as pd\n",
    "import matplotlib.pyplot as plt\n",
    "import seaborn as sns\n",
    "import numpy as np\n",
    "import os\n",
    "import random as rn\n",
    "from sklearn.metrics.pairwise import cosine_similarity\n",
    "import networkx as nx\n",
    "from datetime import datetime as dt\n",
    "from datetime import timedelta\n",
    "\n",
    "\n",
    "%run Functions.ipynb"
   ]
  },
  {
   "cell_type": "code",
   "execution_count": 9,
   "id": "dfa58424",
   "metadata": {},
   "outputs": [],
   "source": [
    "n = 6"
   ]
  },
  {
   "cell_type": "code",
   "execution_count": 10,
   "id": "a51778e1",
   "metadata": {},
   "outputs": [],
   "source": [
    "testData = pd.read_csv('Data_Test Data.csv').drop(['Unnamed: 0'],axis=1)\n",
    "testData[\"EntryDate\"] = pd.to_datetime(testData['EntryDate'])\n",
    "testData[\"ExitDate\"] = pd.to_datetime(testData['ExitDate'])\n",
    "testData = testData.sort_values([\"EntryDate\",'ExitDate']).reset_index(drop=True)\n",
    "\n",
    "\n",
    "queryClient = pd.read_csv('Data_Query Client.csv').drop(['Unnamed: 0'],axis=1)['0'].values\n",
    "historicalClient = pd.read_csv('Data_Historical Client.csv').drop(['Unnamed: 0'],axis=1)['0'].values\n",
    "\n",
    "normalized_tm_combined = pd.read_csv('TransitionGraph_Snapshot method for train set.csv').drop(['Unnamed: 0'],axis=1)"
   ]
  },
  {
   "cell_type": "markdown",
   "id": "69d6414a",
   "metadata": {},
   "source": [
    "# Similarity info computation for exit points"
   ]
  },
  {
   "cell_type": "code",
   "execution_count": 11,
   "id": "c26722ae",
   "metadata": {},
   "outputs": [
    {
     "name": "stdout",
     "output_type": "stream",
     "text": [
      "Preparing the query trajectories\n",
      "Constructing the graph in networkx\n",
      "0\n",
      "1\n",
      "2\n",
      "3\n",
      "Computing Similarity info\n",
      "0\n"
     ]
    }
   ],
   "source": [
    "temp_hist = pd.read_csv(\"Query_Historical client within query interval with n transitions including exit points.csv\").drop(['Unnamed: 0'],axis=1)\n",
    "temp_hist[\"EntryDate\"] = pd.to_datetime(temp_hist['EntryDate'])\n",
    "temp_hist[\"ExitDate\"] = pd.to_datetime(temp_hist['ExitDate'])\n",
    "temp_hist = temp_hist.sort_values([\"EntryDate\",'ExitDate']).reset_index(drop=True)\n",
    "\n",
    "overlap = pd.read_csv(\"Query_Historical client overlap computation including exit points.csv\").drop(['Unnamed: 0'],axis=1)\n",
    "overlap[\"overlap initial\"] = pd.to_datetime(overlap['overlap initial'])\n",
    "overlap[\"overlap final\"] = pd.to_datetime(overlap['overlap final'])\n",
    "overlap = overlap.sort_values([\"overlap initial\",'overlap final']).reset_index(drop=True)\n",
    "\n",
    "\n",
    "\n",
    "query_past_chopped,query_target = QueryTrajectory(testData,queryClient,'exit',n)\n",
    "shortest_path_length_list,G_list,Dg_list = GraphConstruction(normalized_tm_combined,'snapshot')\n",
    "similarity_info = SimilarityInfoComputation(temp_hist,overlap,method = 'method 1')\n",
    "similarity_info.to_csv(\"Query_Similarity Info computation with snapshot graph including exit points-Method 1.csv\")\n",
    "\n",
    "\n"
   ]
  },
  {
   "cell_type": "markdown",
   "id": "a0fcc883",
   "metadata": {},
   "source": [
    "# Similarity info computation for interim points"
   ]
  },
  {
   "cell_type": "code",
   "execution_count": 12,
   "id": "db1c32cd",
   "metadata": {},
   "outputs": [
    {
     "name": "stdout",
     "output_type": "stream",
     "text": [
      "Preparing the query trajectories\n",
      "Constructing the graph in networkx\n",
      "0\n",
      "1\n",
      "2\n",
      "3\n",
      "Computing Similarity info\n",
      "0\n"
     ]
    }
   ],
   "source": [
    "temp_hist = pd.read_csv(\"Query_Historical client within query interval with n transitions including interim points.csv\").drop(['Unnamed: 0'],axis=1)\n",
    "temp_hist[\"EntryDate\"] = pd.to_datetime(temp_hist['EntryDate'])\n",
    "temp_hist[\"ExitDate\"] = pd.to_datetime(temp_hist['ExitDate'])\n",
    "temp_hist = temp_hist.sort_values([\"EntryDate\",'ExitDate']).reset_index(drop=True)\n",
    "\n",
    "overlap = pd.read_csv(\"Query_Historical client overlap computation including interim points.csv\").drop(['Unnamed: 0'],axis=1)\n",
    "overlap[\"overlap initial\"] = pd.to_datetime(overlap['overlap initial'])\n",
    "overlap[\"overlap final\"] = pd.to_datetime(overlap['overlap final'])\n",
    "overlap = overlap.sort_values([\"overlap initial\",'overlap final']).reset_index(drop=True)\n",
    "\n",
    "\n",
    "\n",
    "query_past_chopped,query_target = QueryTrajectory(testData,queryClient,'interim',n)\n",
    "shortest_path_length_list,G_list,Dg_list = GraphConstruction(normalized_tm_combined,'snapshot')\n",
    "similarity_info = SimilarityInfoComputation(temp_hist,overlap,method = 'method 1')\n",
    "similarity_info.to_csv(\"Query_Similarity Info computation with snapshot graph including interim points-Method 1.csv\")\n",
    "\n",
    "\n",
    "\n"
   ]
  }
 ],
 "metadata": {
  "kernelspec": {
   "display_name": "Python 3",
   "language": "python",
   "name": "python3"
  },
  "language_info": {
   "codemirror_mode": {
    "name": "ipython",
    "version": 3
   },
   "file_extension": ".py",
   "mimetype": "text/x-python",
   "name": "python",
   "nbconvert_exporter": "python",
   "pygments_lexer": "ipython3",
   "version": "3.8.8"
  }
 },
 "nbformat": 4,
 "nbformat_minor": 5
}
