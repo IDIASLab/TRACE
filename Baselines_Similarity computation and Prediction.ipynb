{
 "cells": [
  {
   "cell_type": "code",
   "execution_count": 13,
   "id": "0359b4b3",
   "metadata": {},
   "outputs": [],
   "source": [
    "import pandas as pd\n",
    "import matplotlib.pyplot as plt\n",
    "import seaborn as sns\n",
    "import numpy as np\n",
    "import os\n",
    "import random as rn\n",
    "from sklearn.metrics.pairwise import cosine_similarity\n",
    "import networkx as nx\n",
    "from datetime import datetime as dt\n",
    "from datetime import timedelta\n",
    "\n",
    "%run Functions.ipynb"
   ]
  },
  {
   "cell_type": "code",
   "execution_count": 2,
   "id": "acf29fe9",
   "metadata": {},
   "outputs": [],
   "source": [
    "testData = pd.read_csv('Data_Test Data.csv').drop(['Unnamed: 0'],axis=1)\n",
    "testData[\"EntryDate\"] = pd.to_datetime(testData['EntryDate'])\n",
    "testData[\"ExitDate\"] = pd.to_datetime(testData['ExitDate'])\n",
    "testData = testData.sort_values([\"EntryDate\",'ExitDate']).reset_index(drop=True)\n",
    "\n",
    "\n",
    "queryClient = pd.read_csv('Data_Query Client.csv').drop(['Unnamed: 0'],axis=1)['0'].values\n",
    "historicalClient = pd.read_csv('Data_Historical Client.csv').drop(['Unnamed: 0'],axis=1)['0'].values\n",
    "\n",
    "normalized_tm_combined = pd.read_csv('TransitionGraph_Empirical method for train set.csv').drop(['Unnamed: 0'],axis=1)"
   ]
  },
  {
   "cell_type": "code",
   "execution_count": 3,
   "id": "bf552a92",
   "metadata": {},
   "outputs": [],
   "source": [
    "\n",
    "n = 6"
   ]
  },
  {
   "cell_type": "code",
   "execution_count": 4,
   "id": "ed554597",
   "metadata": {},
   "outputs": [],
   "source": [
    "similarity_info_exit = pd.read_csv(\"Query_Similarity Info computation with aggregated graph including exit points-baselines.csv\").drop(['Unnamed: 0'],axis=1)\n",
    "similarity_info_exit[\"overlap initial\"] = pd.to_datetime(similarity_info_exit['overlap initial'])\n",
    "similarity_info_exit[\"overlap final\"] = pd.to_datetime(similarity_info_exit['overlap final'])\n",
    "similarity_info_exit = similarity_info_exit.sort_values([\"overlap initial\",'overlap final']).reset_index(drop=True)\n",
    "\n",
    "similarity_info_interim = pd.read_csv(\"Query_Similarity Info computation with aggregated graph including interim points-baselines.csv\").drop(['Unnamed: 0'],axis=1)\n",
    "similarity_info_interim[\"overlap initial\"] = pd.to_datetime(similarity_info_interim['overlap initial'])\n",
    "similarity_info_interim[\"overlap final\"] = pd.to_datetime(similarity_info_interim['overlap final'])\n",
    "similarity_info_interim = similarity_info_interim.sort_values([\"overlap initial\",'overlap final']).reset_index(drop=True)"
   ]
  },
  {
   "cell_type": "code",
   "execution_count": 5,
   "id": "5f3ccb7d",
   "metadata": {},
   "outputs": [
    {
     "name": "stdout",
     "output_type": "stream",
     "text": [
      "Constructing the graph in networkx\n",
      "Preparing the query trajectories\n",
      "Computing similarity\n",
      "0\n",
      "Preparing the query trajectories\n",
      "Computing similarity\n",
      "0\n"
     ]
    }
   ],
   "source": [
    "shortest_path_length_matrix,G,Dg = GraphConstruction(normalized_tm_combined,'aggregate')\n",
    "\n",
    "\n",
    "query_past_chopped,query_target = QueryTrajectory(testData,queryClient,'exit',n)\n",
    "similarity_exit = SimilarityComputation([similarity_info_exit],'baseline')\n",
    "\n",
    "query_past_chopped,query_target = QueryTrajectory(testData,queryClient,'interim',n)\n",
    "similarity_interim = SimilarityComputation([similarity_info_interim],'baseline')\n",
    "\n"
   ]
  },
  {
   "cell_type": "markdown",
   "id": "e4360b7b",
   "metadata": {},
   "source": [
    "# Baseline 1"
   ]
  },
  {
   "cell_type": "code",
   "execution_count": 6,
   "id": "1b70f04b",
   "metadata": {
    "scrolled": true
   },
   "outputs": [
    {
     "name": "stdout",
     "output_type": "stream",
     "text": [
      "Predicting\n",
      "0\n",
      "Predicting\n",
      "0\n"
     ]
    }
   ],
   "source": [
    "next_target = pd.read_csv(\"Query_Next target of the historical client within query interval with n transitions including exit points_baseline 1.csv\").drop(['Unnamed: 0'],axis=1)\n",
    "prediction = Prediction([similarity_exit],\"baseline 1\")\n",
    "prediction.to_csv(\"Prediction - Baseline 1 exit points.csv\")\n",
    "\n",
    "next_target = pd.read_csv(\"Query_Next target of the historical client within query interval with n transitions including interim points_baseline 1.csv\").drop(['Unnamed: 0'],axis=1)\n",
    "prediction = Prediction([similarity_interim],\"baseline 1\")\n",
    "prediction.to_csv(\"Prediction - Baseline 1 interim points.csv\")\n",
    "\n"
   ]
  },
  {
   "cell_type": "markdown",
   "id": "fabcc1b2",
   "metadata": {},
   "source": [
    "# Baseline 2\n"
   ]
  },
  {
   "cell_type": "code",
   "execution_count": 7,
   "id": "ac91c50b",
   "metadata": {},
   "outputs": [
    {
     "name": "stdout",
     "output_type": "stream",
     "text": [
      "Predicting\n",
      "0\n",
      "Predicting\n",
      "0\n"
     ]
    }
   ],
   "source": [
    "prediction = Prediction([similarity_exit],\"baseline 2\")\n",
    "prediction.to_csv(\"Prediction - Baseline 2 exit points.csv\")\n",
    "\n",
    "prediction = Prediction([similarity_interim],\"baseline 2\")\n",
    "prediction.to_csv(\"Prediction - Baseline 2 interim points.csv\")\n",
    "\n"
   ]
  },
  {
   "cell_type": "markdown",
   "id": "75ec0ff1",
   "metadata": {},
   "source": [
    "# Baseline 3\n"
   ]
  },
  {
   "cell_type": "code",
   "execution_count": 8,
   "id": "26f1132b",
   "metadata": {},
   "outputs": [
    {
     "name": "stdout",
     "output_type": "stream",
     "text": [
      "Predicting\n",
      "0\n",
      "Predicting\n",
      "0\n"
     ]
    }
   ],
   "source": [
    "prediction = Prediction([similarity_exit],\"baseline 3\")\n",
    "prediction.to_csv(\"Prediction - Baseline 3 exit points.csv\")\n",
    "\n",
    "prediction = Prediction([similarity_interim],\"baseline 3\")\n",
    "prediction.to_csv(\"Prediction - Baseline 3 interim points.csv\")"
   ]
  },
  {
   "cell_type": "markdown",
   "id": "fcae644a",
   "metadata": {},
   "source": [
    "# Baseline 4a\n"
   ]
  },
  {
   "cell_type": "code",
   "execution_count": 9,
   "id": "7a069ca4",
   "metadata": {},
   "outputs": [
    {
     "name": "stdout",
     "output_type": "stream",
     "text": [
      "Predicting\n",
      "0\n",
      "Predicting\n",
      "0\n"
     ]
    }
   ],
   "source": [
    "prediction = Prediction([similarity_exit],\"baseline 4a\")\n",
    "prediction.to_csv(\"Prediction - Baseline 4a exit points.csv\")\n",
    "\n",
    "prediction = Prediction([similarity_interim],\"baseline 4a\")\n",
    "prediction.to_csv(\"Prediction - Baseline 4a interim points.csv\")\n",
    "\n"
   ]
  },
  {
   "cell_type": "markdown",
   "id": "0731224a",
   "metadata": {},
   "source": [
    "# Baseline 4b\n",
    "\n"
   ]
  },
  {
   "cell_type": "code",
   "execution_count": 10,
   "id": "6d3c211c",
   "metadata": {},
   "outputs": [
    {
     "name": "stdout",
     "output_type": "stream",
     "text": [
      "Predicting\n",
      "0\n",
      "Predicting\n",
      "0\n"
     ]
    }
   ],
   "source": [
    "prediction = Prediction([similarity_exit],\"baseline 4b\")\n",
    "prediction.to_csv(\"Prediction - Baseline 4b exit points.csv\")\n",
    "\n",
    "prediction = Prediction([similarity_interim],\"baseline 4b\")\n",
    "prediction.to_csv(\"Prediction - Baseline 4b interim points.csv\")\n",
    "\n"
   ]
  },
  {
   "cell_type": "markdown",
   "id": "16beac89",
   "metadata": {},
   "source": [
    "# Baseline 5"
   ]
  },
  {
   "cell_type": "code",
   "execution_count": 14,
   "id": "c6e8ed22",
   "metadata": {},
   "outputs": [
    {
     "name": "stdout",
     "output_type": "stream",
     "text": [
      "Predicting\n",
      "0\n",
      "Predicting\n",
      "0\n"
     ]
    }
   ],
   "source": [
    "prediction = Prediction([similarity_exit],\"baseline 5\")\n",
    "prediction.to_csv(\"Prediction - Baseline 5 exit points.csv\")\n",
    "\n",
    "prediction = Prediction([similarity_interim],\"baseline 5\")\n",
    "prediction.to_csv(\"Prediction - Baseline 5 interim points.csv\")\n",
    "\n"
   ]
  },
  {
   "cell_type": "markdown",
   "id": "d550ec01",
   "metadata": {},
   "source": [
    "# Baseline 6\n"
   ]
  },
  {
   "cell_type": "code",
   "execution_count": 15,
   "id": "3e9c3eb0",
   "metadata": {},
   "outputs": [
    {
     "name": "stdout",
     "output_type": "stream",
     "text": [
      "Constructing the graph in networkx\n",
      "Preparing the query trajectories\n",
      "Computing similarity\n",
      "0\n",
      "Preparing the query trajectories\n",
      "Computing similarity\n",
      "0\n",
      "Predicting\n",
      "0\n",
      "Predicting\n",
      "0\n"
     ]
    }
   ],
   "source": [
    "shortest_path_length_matrix,G,Dg = GraphConstruction(normalized_tm_combined,'aggregate')\n",
    "\n",
    "\n",
    "query_past_chopped,query_target = QueryTrajectory(testData,queryClient,'exit',n)\n",
    "similarity_exit = SimilarityComputation([similarity_info_exit],'baseline 6')\n",
    "\n",
    "query_past_chopped,query_target = QueryTrajectory(testData,queryClient,'interim',n)\n",
    "similarity_interim = SimilarityComputation([similarity_info_interim],'baseline 6')\n",
    "\n",
    "\n",
    "\n",
    "prediction = Prediction([similarity_exit],\"baseline 6\")\n",
    "prediction.to_csv(\"Prediction - Baseline 6 exit points.csv\")\n",
    "\n",
    "prediction = Prediction([similarity_interim],\"baseline 6\")\n",
    "prediction.to_csv(\"Prediction - Baseline 6 interim points.csv\")\n",
    "\n"
   ]
  }
 ],
 "metadata": {
  "kernelspec": {
   "display_name": "Python 3",
   "language": "python",
   "name": "python3"
  },
  "language_info": {
   "codemirror_mode": {
    "name": "ipython",
    "version": 3
   },
   "file_extension": ".py",
   "mimetype": "text/x-python",
   "name": "python",
   "nbconvert_exporter": "python",
   "pygments_lexer": "ipython3",
   "version": "3.8.8"
  }
 },
 "nbformat": 4,
 "nbformat_minor": 5
}
