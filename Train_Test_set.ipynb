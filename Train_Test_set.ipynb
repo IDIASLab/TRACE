{
 "cells": [
  {
   "cell_type": "code",
   "execution_count": 34,
   "id": "19f7ed53",
   "metadata": {},
   "outputs": [],
   "source": [
    "import pandas as pd\n",
    "import matplotlib.pyplot as plt\n",
    "import seaborn as sns\n",
    "import numpy as np\n",
    "import os\n",
    "import random as rn\n",
    "from sklearn.metrics.pairwise import cosine_similarity\n",
    "import networkx as nx\n",
    "from datetime import datetime as dt\n",
    "from datetime import timedelta\n",
    "\n",
    "\n",
    "%run Functions.ipynb"
   ]
  },
  {
   "cell_type": "code",
   "execution_count": 35,
   "id": "1c609248",
   "metadata": {},
   "outputs": [],
   "source": [
    "df = pd.read_csv(\"ToyDataset.csv\").drop(['Unnamed: 0'],axis=1)\n",
    "df[\"EntryDate\"] = pd.to_datetime(df['EntryDate'])\n",
    "df[\"ExitDate\"] = pd.to_datetime(df['ExitDate'])\n",
    "df = df.sort_values([\"EntryDate\",'ExitDate']).reset_index(drop=True)\n",
    "\n",
    "data = df[['ClientID','EntryDate','ExitDate','Destination','ProjectType','ProjectID']]"
   ]
  },
  {
   "cell_type": "code",
   "execution_count": 36,
   "id": "383751e7",
   "metadata": {},
   "outputs": [
    {
     "name": "stdout",
     "output_type": "stream",
     "text": [
      "Train test split\n",
      "Preparing train data\n",
      "Preparing test data\n",
      "Preparing historical and query data\n"
     ]
    }
   ],
   "source": [
    "trainData, testData, historicalClient, queryClient = TrainTestSplit(data)\n",
    "\n",
    "trainData.to_csv('Data_Train Data.csv')\n",
    "testData.to_csv('Data_Test Data.csv')\n",
    "historicalClient.to_csv(\"Data_Historical Client.csv\")\n",
    "queryClient.to_csv(\"Data_Query Client.csv\")\n",
    "\n"
   ]
  },
  {
   "cell_type": "code",
   "execution_count": null,
   "id": "301cf070",
   "metadata": {},
   "outputs": [],
   "source": []
  }
 ],
 "metadata": {
  "kernelspec": {
   "display_name": "Python 3",
   "language": "python",
   "name": "python3"
  },
  "language_info": {
   "codemirror_mode": {
    "name": "ipython",
    "version": 3
   },
   "file_extension": ".py",
   "mimetype": "text/x-python",
   "name": "python",
   "nbconvert_exporter": "python",
   "pygments_lexer": "ipython3",
   "version": "3.8.8"
  }
 },
 "nbformat": 4,
 "nbformat_minor": 5
}
