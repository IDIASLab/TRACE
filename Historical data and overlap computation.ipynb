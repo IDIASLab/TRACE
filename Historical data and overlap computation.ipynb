{
 "cells": [
  {
   "cell_type": "code",
   "execution_count": 11,
   "id": "7dd6a741",
   "metadata": {},
   "outputs": [],
   "source": [
    "import pandas as pd\n",
    "import matplotlib.pyplot as plt\n",
    "import seaborn as sns\n",
    "import numpy as np\n",
    "import os\n",
    "import random as rn\n",
    "from sklearn.metrics.pairwise import cosine_similarity\n",
    "import networkx as nx\n",
    "from datetime import datetime as dt\n",
    "from datetime import timedelta\n",
    "import csv\n",
    "\n",
    "%run Functions.ipynb"
   ]
  },
  {
   "cell_type": "code",
   "execution_count": 12,
   "id": "a51778e1",
   "metadata": {},
   "outputs": [],
   "source": [
    "testData = pd.read_csv('Data_Test Data.csv').drop(['Unnamed: 0'],axis=1)\n",
    "testData[\"EntryDate\"] = pd.to_datetime(testData['EntryDate'])\n",
    "testData[\"ExitDate\"] = pd.to_datetime(testData['ExitDate'])\n",
    "testData = testData.sort_values([\"EntryDate\",'ExitDate']).reset_index(drop=True)\n",
    "queryClient = pd.read_csv('Data_Query Client.csv').drop(['Unnamed: 0'],axis=1)['0'].values\n",
    "historicalClient = pd.read_csv('Data_Historical Client.csv').drop(['Unnamed: 0'],axis=1)['0'].values"
   ]
  },
  {
   "cell_type": "code",
   "execution_count": 13,
   "id": "74eec347",
   "metadata": {},
   "outputs": [],
   "source": [
    "# Number of hops or entries, n\n",
    "n = 6\n",
    "\n"
   ]
  },
  {
   "cell_type": "markdown",
   "id": "3bd87325",
   "metadata": {},
   "source": [
    "# Historical data and overlap computation for exit points"
   ]
  },
  {
   "cell_type": "code",
   "execution_count": 14,
   "id": "c70f7a47",
   "metadata": {
    "scrolled": true
   },
   "outputs": [
    {
     "name": "stdout",
     "output_type": "stream",
     "text": [
      "Preparing the query trajectories\n",
      "Extracting the historical clients within the time interval\n",
      "0\n",
      "Computing overlap\n",
      "0\n"
     ]
    }
   ],
   "source": [
    "query_past_chopped,query_target = QueryTrajectory(testData,queryClient,'exit',n)\n",
    "temp_hist = HistClientWithinTimeInterval(query_past_chopped,historicalClient,testData,n,method = 'others')\n",
    "overlap = Overlap(query_past_chopped,temp_hist)\n",
    "\n",
    "temp_hist.to_csv(\"Query_Historical client within query interval with n transitions including exit points.csv\")\n",
    "overlap.to_csv(\"Query_Historical client overlap computation including exit points.csv\")"
   ]
  },
  {
   "cell_type": "markdown",
   "id": "5a542b3e",
   "metadata": {},
   "source": [
    "# Historical data and overlap computation for interim points"
   ]
  },
  {
   "cell_type": "code",
   "execution_count": 15,
   "id": "01b39a8c",
   "metadata": {},
   "outputs": [
    {
     "name": "stdout",
     "output_type": "stream",
     "text": [
      "Preparing the query trajectories\n",
      "Extracting the historical clients within the time interval\n",
      "0\n",
      "Computing overlap\n",
      "0\n"
     ]
    }
   ],
   "source": [
    "query_past_chopped,query_target = QueryTrajectory(testData,queryClient,'interim',n)\n",
    "temp_hist = HistClientWithinTimeInterval(query_past_chopped,historicalClient,testData,n,method = 'others')\n",
    "overlap = Overlap(query_past_chopped,temp_hist)\n",
    "\n",
    "\n",
    "temp_hist.to_csv(\"Query_Historical client within query interval with n transitions including interim points.csv\")\n",
    "overlap.to_csv(\"Query_Historical client overlap computation including interim points.csv\")"
   ]
  },
  {
   "cell_type": "markdown",
   "id": "2bfcd7a1",
   "metadata": {},
   "source": [
    "# Historical data and overlap computation for exit points - baseline 1"
   ]
  },
  {
   "cell_type": "code",
   "execution_count": 16,
   "id": "a326948d",
   "metadata": {
    "scrolled": false
   },
   "outputs": [
    {
     "name": "stdout",
     "output_type": "stream",
     "text": [
      "Preparing the query trajectories\n",
      "Extracting the historical clients within the time interval\n",
      "0\n",
      "Computing overlap\n",
      "0\n"
     ]
    }
   ],
   "source": [
    "query_past_chopped,query_target = QueryTrajectory(testData,queryClient,'exit',n)\n",
    "temp_hist,next_target = HistClientWithinTimeInterval(query_past_chopped,historicalClient,testData,n,method = 'baseline 1')\n",
    "overlap = Overlap(query_past_chopped,temp_hist)\n",
    "\n",
    "temp_hist.to_csv(\"Query_Historical client within query interval with n transitions including exit points_baseline 1.csv\")\n",
    "next_target.to_csv(\"Query_Next target of the historical client within query interval with n transitions including exit points_baseline 1.csv\")\n",
    "overlap.to_csv(\"Query_Historical client overlap computation including exit points-baseline 1.csv\")"
   ]
  },
  {
   "cell_type": "markdown",
   "id": "58f3c5ee",
   "metadata": {},
   "source": [
    "# Historical data and overlap computation for interim points - baseline 1"
   ]
  },
  {
   "cell_type": "code",
   "execution_count": 17,
   "id": "3dfeb4c7",
   "metadata": {},
   "outputs": [
    {
     "name": "stdout",
     "output_type": "stream",
     "text": [
      "Preparing the query trajectories\n",
      "Extracting the historical clients within the time interval\n",
      "0\n",
      "Computing overlap\n",
      "0\n"
     ]
    }
   ],
   "source": [
    "query_past_chopped,query_target = QueryTrajectory(testData,queryClient,'interim',n)\n",
    "temp_hist,next_target = HistClientWithinTimeInterval(query_past_chopped,historicalClient,testData,n,method = 'baseline 1')\n",
    "overlap = Overlap(query_past_chopped,temp_hist)\n",
    "\n",
    "temp_hist.to_csv(\"Query_Historical client within query interval with n transitions including interim points_baseline 1.csv\")\n",
    "next_target.to_csv(\"Query_Next target of the historical client within query interval with n transitions including interim points_baseline 1.csv\")\n",
    "overlap.to_csv(\"Query_Historical client overlap computation including interim points-baseline 1.csv\")"
   ]
  },
  {
   "cell_type": "code",
   "execution_count": null,
   "id": "ec159843",
   "metadata": {},
   "outputs": [],
   "source": []
  }
 ],
 "metadata": {
  "kernelspec": {
   "display_name": "Python 3",
   "language": "python",
   "name": "python3"
  },
  "language_info": {
   "codemirror_mode": {
    "name": "ipython",
    "version": 3
   },
   "file_extension": ".py",
   "mimetype": "text/x-python",
   "name": "python",
   "nbconvert_exporter": "python",
   "pygments_lexer": "ipython3",
   "version": "3.8.8"
  }
 },
 "nbformat": 4,
 "nbformat_minor": 5
}
