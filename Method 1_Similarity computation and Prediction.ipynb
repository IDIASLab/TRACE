{
 "cells": [
  {
   "cell_type": "code",
   "execution_count": 20,
   "id": "7dd6a741",
   "metadata": {},
   "outputs": [],
   "source": [
    "import pandas as pd\n",
    "import matplotlib.pyplot as plt\n",
    "import seaborn as sns\n",
    "import numpy as np\n",
    "import os\n",
    "import random as rn\n",
    "from sklearn.metrics.pairwise import cosine_similarity\n",
    "import networkx as nx\n",
    "from datetime import datetime as dt\n",
    "from datetime import timedelta\n",
    "\n",
    "%run Functions.ipynb"
   ]
  },
  {
   "cell_type": "code",
   "execution_count": 21,
   "id": "a51778e1",
   "metadata": {},
   "outputs": [],
   "source": [
    "testData = pd.read_csv('Data_Test Data.csv').drop(['Unnamed: 0'],axis=1)\n",
    "testData[\"EntryDate\"] = pd.to_datetime(testData['EntryDate'])\n",
    "testData[\"ExitDate\"] = pd.to_datetime(testData['ExitDate'])\n",
    "testData = testData.sort_values([\"EntryDate\",'ExitDate']).reset_index(drop=True)\n",
    "\n",
    "\n",
    "queryClient = pd.read_csv('Data_Query Client.csv').drop(['Unnamed: 0'],axis=1)['0'].values\n",
    "historicalClient = pd.read_csv('Data_Historical Client.csv').drop(['Unnamed: 0'],axis=1)['0'].values\n",
    "\n",
    "normalized_tm_combined = pd.read_csv('TransitionGraph_Snapshot method for train set.csv').drop(['Unnamed: 0'],axis=1)"
   ]
  },
  {
   "cell_type": "code",
   "execution_count": 22,
   "id": "59b5faab",
   "metadata": {},
   "outputs": [],
   "source": [
    "\n",
    "n = 6"
   ]
  },
  {
   "cell_type": "markdown",
   "id": "a61e9522",
   "metadata": {},
   "source": [
    "# Prediction for exit point"
   ]
  },
  {
   "cell_type": "code",
   "execution_count": 23,
   "id": "33f8d909",
   "metadata": {
    "scrolled": true
   },
   "outputs": [
    {
     "name": "stdout",
     "output_type": "stream",
     "text": [
      "Preparing the query trajectories\n",
      "Constructing the graph in networkx\n",
      "0\n",
      "1\n",
      "2\n",
      "3\n",
      "Computing similarity\n",
      "0\n",
      "Predicting\n",
      "0\n"
     ]
    }
   ],
   "source": [
    "similarity_info = pd.read_csv(r\"Query_Similarity Info computation with snapshot graph including exit points-Method 1.csv\").drop(['Unnamed: 0'],axis=1)\n",
    "similarity_info[\"overlap initial\"] = pd.to_datetime(similarity_info['overlap initial'])\n",
    "similarity_info[\"overlap final\"] = pd.to_datetime(similarity_info['overlap final'])\n",
    "similarity_info = similarity_info.sort_values([\"overlap initial\",'overlap final']).reset_index(drop=True)\n",
    "\n",
    "query_past_chopped,query_target = QueryTrajectory(testData,queryClient,'exit',n)\n",
    "shortest_path_length_list,G_list,Dg_list = GraphConstruction(normalized_tm_combined,'snapshot')\n",
    "similarity = SimilarityComputation([similarity_info],'method 1')\n",
    "prediction = Prediction([similarity],\"method 1\")\n",
    "prediction.to_csv(\"Prediction - Method 1 exit points.csv\")"
   ]
  },
  {
   "cell_type": "markdown",
   "id": "e1c380d8",
   "metadata": {},
   "source": [
    "# Prediction for interim point"
   ]
  },
  {
   "cell_type": "code",
   "execution_count": 25,
   "id": "37ccb76d",
   "metadata": {
    "scrolled": true
   },
   "outputs": [
    {
     "name": "stdout",
     "output_type": "stream",
     "text": [
      "Preparing the query trajectories\n",
      "Constructing the graph in networkx\n",
      "0\n",
      "1\n",
      "2\n",
      "3\n",
      "Computing similarity\n",
      "0\n",
      "Predicting\n",
      "0\n"
     ]
    }
   ],
   "source": [
    "similarity_info = pd.read_csv(\"Query_Similarity Info computation with snapshot graph including interim points-Method 1.csv\").drop(['Unnamed: 0'],axis=1)\n",
    "similarity_info[\"overlap initial\"] = pd.to_datetime(similarity_info['overlap initial'])\n",
    "similarity_info[\"overlap final\"] = pd.to_datetime(similarity_info['overlap final'])\n",
    "similarity_info = similarity_info.sort_values([\"overlap initial\",'overlap final']).reset_index(drop=True)\n",
    "\n",
    "query_past_chopped,query_target = QueryTrajectory(testData,queryClient,'interim',n)\n",
    "shortest_path_length_list,G_list,Dg_list = GraphConstruction(normalized_tm_combined,'snapshot')\n",
    "similarity = SimilarityComputation([similarity_info],'method 1')\n",
    "prediction = Prediction([similarity],\"method 1\")\n",
    "prediction.to_csv(\"Prediction - Method 1 interim points.csv\")"
   ]
  },
  {
   "cell_type": "code",
   "execution_count": null,
   "id": "a14a1b0b",
   "metadata": {},
   "outputs": [],
   "source": []
  }
 ],
 "metadata": {
  "kernelspec": {
   "display_name": "Python 3",
   "language": "python",
   "name": "python3"
  },
  "language_info": {
   "codemirror_mode": {
    "name": "ipython",
    "version": 3
   },
   "file_extension": ".py",
   "mimetype": "text/x-python",
   "name": "python",
   "nbconvert_exporter": "python",
   "pygments_lexer": "ipython3",
   "version": "3.8.8"
  }
 },
 "nbformat": 4,
 "nbformat_minor": 5
}
