{
 "cells": [
  {
   "cell_type": "code",
   "execution_count": 9,
   "id": "7dd6a741",
   "metadata": {},
   "outputs": [],
   "source": [
    "import pandas as pd\n",
    "import matplotlib.pyplot as plt\n",
    "import seaborn as sns\n",
    "import numpy as np\n",
    "import os\n",
    "import random as rn\n",
    "from sklearn.metrics.pairwise import cosine_similarity\n",
    "import networkx as nx\n",
    "from datetime import datetime as dt\n",
    "from datetime import timedelta\n",
    "\n",
    "%run Functions.ipynb"
   ]
  },
  {
   "cell_type": "code",
   "execution_count": 3,
   "id": "a51778e1",
   "metadata": {},
   "outputs": [],
   "source": [
    "testData = pd.read_csv('Data_Test Data.csv').drop(['Unnamed: 0'],axis=1)\n",
    "testData[\"EntryDate\"] = pd.to_datetime(testData['EntryDate'])\n",
    "testData[\"ExitDate\"] = pd.to_datetime(testData['ExitDate'])\n",
    "testData = testData.sort_values([\"EntryDate\",'ExitDate']).reset_index(drop=True)\n",
    "\n",
    "\n",
    "queryClient = pd.read_csv('Data_Query Client.csv').drop(['Unnamed: 0'],axis=1)['0'].values\n",
    "historicalClient = pd.read_csv('Data_Historical Client.csv').drop(['Unnamed: 0'],axis=1)['0'].values\n",
    "\n",
    "normalized_tm_combined = pd.read_csv('TransitionGraph_Snapshot method for train set.csv').drop(['Unnamed: 0'],axis=1)"
   ]
  },
  {
   "cell_type": "code",
   "execution_count": 4,
   "id": "44860e77",
   "metadata": {},
   "outputs": [],
   "source": [
    "\n",
    "n = 6"
   ]
  },
  {
   "cell_type": "markdown",
   "id": "65bb191e",
   "metadata": {},
   "source": [
    "# Prediction for exit point"
   ]
  },
  {
   "cell_type": "code",
   "execution_count": 10,
   "id": "5562efbb",
   "metadata": {
    "scrolled": true
   },
   "outputs": [
    {
     "name": "stdout",
     "output_type": "stream",
     "text": [
      "Preparing the query trajectories\n",
      "Constructing the graph in networkx\n",
      "0\n",
      "1\n",
      "2\n",
      "3\n",
      "Computing similarity\n",
      "Computing similarity for l\n",
      "0\n",
      "Computing similarity for l+1\n",
      "0\n",
      "Predicting\n",
      "0\n"
     ]
    }
   ],
   "source": [
    "similarity_info_l1 = pd.read_csv(\"Query_Similarity Info l1 computation with snapshot graph including exit points-Method 2.csv\").drop(['Unnamed: 0'],axis=1)\n",
    "similarity_info_l1[\"overlap initial\"] = pd.to_datetime(similarity_info_l1['overlap initial'])\n",
    "similarity_info_l1[\"overlap final\"] = pd.to_datetime(similarity_info_l1['overlap final'])\n",
    "similarity_info_l1 = similarity_info_l1.sort_values([\"overlap initial\",'overlap final']).reset_index(drop=True)\n",
    "\n",
    "similarity_info_l2 = pd.read_csv(\"Query_Similarity Info l2 computation with snapshot graph including exit points-Method 2.csv\").drop(['Unnamed: 0'],axis=1)\n",
    "similarity_info_l2[\"overlap initial\"] = pd.to_datetime(similarity_info_l2['overlap initial'])\n",
    "similarity_info_l2[\"overlap final\"] = pd.to_datetime(similarity_info_l2['overlap final'])\n",
    "similarity_info_l2 = similarity_info_l2.sort_values([\"overlap initial\",'overlap final']).reset_index(drop=True)\n",
    "\n",
    "\n",
    "query_past_chopped,query_target = QueryTrajectory(testData,queryClient,'exit',n)\n",
    "shortest_path_length_list,G_list,Dg_list = GraphConstruction(normalized_tm_combined,'snapshot')\n",
    "similarity = SimilarityComputation([similarity_info_l1,similarity_info_l2],'method 2')\n",
    "prediction = Prediction(similarity,\"method 2\")\n",
    "prediction.to_csv(\"Prediction - Method 2 exit points.csv\")"
   ]
  },
  {
   "cell_type": "markdown",
   "id": "bf674442",
   "metadata": {},
   "source": [
    "# Prediction for interim point"
   ]
  },
  {
   "cell_type": "code",
   "execution_count": 12,
   "id": "c4997739",
   "metadata": {
    "scrolled": false
   },
   "outputs": [
    {
     "name": "stdout",
     "output_type": "stream",
     "text": [
      "Preparing the query trajectories\n",
      "Constructing the graph in networkx\n",
      "0\n",
      "1\n",
      "2\n",
      "3\n",
      "Computing similarity\n",
      "Computing similarity for l\n",
      "0\n",
      "Computing similarity for l+1\n",
      "0\n",
      "Predicting\n",
      "0\n"
     ]
    }
   ],
   "source": [
    "similarity_info_l1 = pd.read_csv(\"Query_Similarity Info l1 computation with snapshot graph including interim points-Method 2.csv\").drop(['Unnamed: 0'],axis=1)\n",
    "similarity_info_l1[\"overlap initial\"] = pd.to_datetime(similarity_info_l1['overlap initial'])\n",
    "similarity_info_l1[\"overlap final\"] = pd.to_datetime(similarity_info_l1['overlap final'])\n",
    "similarity_info_l1 = similarity_info_l1.sort_values([\"overlap initial\",'overlap final']).reset_index(drop=True)\n",
    "\n",
    "similarity_info_l2 = pd.read_csv(\"Query_Similarity Info l2 computation with snapshot graph including interim points-Method 2.csv\").drop(['Unnamed: 0'],axis=1)\n",
    "similarity_info_l2[\"overlap initial\"] = pd.to_datetime(similarity_info_l2['overlap initial'])\n",
    "similarity_info_l2[\"overlap final\"] = pd.to_datetime(similarity_info_l2['overlap final'])\n",
    "similarity_info_l2 = similarity_info_l2.sort_values([\"overlap initial\",'overlap final']).reset_index(drop=True)\n",
    "\n",
    "query_past_chopped,query_target = QueryTrajectory(testData,queryClient,'interim',n)\n",
    "shortest_path_length_list,G_list,Dg_list = GraphConstruction(normalized_tm_combined,'snapshot')\n",
    "similarity = SimilarityComputation([similarity_info_l1,similarity_info_l2],'method 2')\n",
    "prediction = Prediction(similarity,\"method 2\")\n",
    "prediction.to_csv(\"Prediction - Method 2 interim points.csv\")"
   ]
  },
  {
   "cell_type": "code",
   "execution_count": null,
   "id": "87d119fe",
   "metadata": {},
   "outputs": [],
   "source": []
  }
 ],
 "metadata": {
  "kernelspec": {
   "display_name": "Python 3",
   "language": "python",
   "name": "python3"
  },
  "language_info": {
   "codemirror_mode": {
    "name": "ipython",
    "version": 3
   },
   "file_extension": ".py",
   "mimetype": "text/x-python",
   "name": "python",
   "nbconvert_exporter": "python",
   "pygments_lexer": "ipython3",
   "version": "3.8.8"
  }
 },
 "nbformat": 4,
 "nbformat_minor": 5
}
